{
 "cells": [
  {
   "cell_type": "code",
   "execution_count": 1,
   "id": "9faa3767-aa77-49fd-9954-11f93bbf99e7",
   "metadata": {},
   "outputs": [],
   "source": [
    "#Eunah's homework!"
   ]
  },
  {
   "cell_type": "code",
   "execution_count": 2,
   "id": "e2fbd7c7-5703-49c1-b996-ff5aac3c3107",
   "metadata": {},
   "outputs": [],
   "source": [
    "import pandas as pd \n",
    "%matplotlib inline"
   ]
  },
  {
   "cell_type": "code",
   "execution_count": 3,
   "id": "a5232d50-74e6-4468-92da-78a4c0a31caf",
   "metadata": {},
   "outputs": [],
   "source": [
    "path = \"datas/Eunah_Class5_Data.csv\"\n",
    "data_among_us = pd.read_csv(path)"
   ]
  },
  {
   "cell_type": "code",
   "execution_count": 4,
   "id": "d8f0518f-cf0b-4392-9f33-4b5b3a2b52f4",
   "metadata": {},
   "outputs": [
    {
     "data": {
      "text/html": [
       "<div>\n",
       "<style scoped>\n",
       "    .dataframe tbody tr th:only-of-type {\n",
       "        vertical-align: middle;\n",
       "    }\n",
       "\n",
       "    .dataframe tbody tr th {\n",
       "        vertical-align: top;\n",
       "    }\n",
       "\n",
       "    .dataframe thead th {\n",
       "        text-align: right;\n",
       "    }\n",
       "</style>\n",
       "<table border=\"1\" class=\"dataframe\">\n",
       "  <thead>\n",
       "    <tr style=\"text-align: right;\">\n",
       "      <th></th>\n",
       "      <th>note</th>\n",
       "      <th>pizza</th>\n",
       "      <th>drink</th>\n",
       "      <th>call</th>\n",
       "      <th>shower</th>\n",
       "      <th>position</th>\n",
       "    </tr>\n",
       "  </thead>\n",
       "  <tbody>\n",
       "    <tr>\n",
       "      <th>0</th>\n",
       "      <td>Pen and paper</td>\n",
       "      <td>Pepperoni</td>\n",
       "      <td>Beer</td>\n",
       "      <td>Your friend</td>\n",
       "      <td>Your face</td>\n",
       "      <td>On your side</td>\n",
       "    </tr>\n",
       "    <tr>\n",
       "      <th>1</th>\n",
       "      <td>Just listen</td>\n",
       "      <td>Funghi</td>\n",
       "      <td>Water</td>\n",
       "      <td>Your partner</td>\n",
       "      <td>Your face</td>\n",
       "      <td>On your side</td>\n",
       "    </tr>\n",
       "    <tr>\n",
       "      <th>2</th>\n",
       "      <td>Just listen</td>\n",
       "      <td>Margherita</td>\n",
       "      <td>Water</td>\n",
       "      <td>Your friend</td>\n",
       "      <td>Your face</td>\n",
       "      <td>On your back</td>\n",
       "    </tr>\n",
       "    <tr>\n",
       "      <th>3</th>\n",
       "      <td>Pen and paper</td>\n",
       "      <td>Hawaiian</td>\n",
       "      <td>Coke</td>\n",
       "      <td>Your partner</td>\n",
       "      <td>Your hair</td>\n",
       "      <td>On your back</td>\n",
       "    </tr>\n",
       "    <tr>\n",
       "      <th>4</th>\n",
       "      <td>Computer</td>\n",
       "      <td>Garden</td>\n",
       "      <td>Water</td>\n",
       "      <td>Your partner</td>\n",
       "      <td>Your face</td>\n",
       "      <td>On your side</td>\n",
       "    </tr>\n",
       "  </tbody>\n",
       "</table>\n",
       "</div>"
      ],
      "text/plain": [
       "            note       pizza  drink          call     shower      position\n",
       "0  Pen and paper   Pepperoni   Beer   Your friend  Your face  On your side\n",
       "1    Just listen      Funghi  Water  Your partner  Your face  On your side\n",
       "2    Just listen  Margherita  Water   Your friend  Your face  On your back\n",
       "3  Pen and paper    Hawaiian   Coke  Your partner  Your hair  On your back\n",
       "4       Computer      Garden  Water  Your partner  Your face  On your side"
      ]
     },
     "execution_count": 4,
     "metadata": {},
     "output_type": "execute_result"
    }
   ],
   "source": [
    "data_among_us.head()"
   ]
  },
  {
   "cell_type": "code",
   "execution_count": 5,
   "id": "929b4183-1917-4f91-ab4f-c511211b616f",
   "metadata": {},
   "outputs": [
    {
     "data": {
      "text/plain": [
       "Index(['note', 'pizza', 'drink', 'call', 'shower', 'position'], dtype='object')"
      ]
     },
     "execution_count": 5,
     "metadata": {},
     "output_type": "execute_result"
    }
   ],
   "source": [
    "data_among_us.columns"
   ]
  },
  {
   "cell_type": "code",
   "execution_count": 6,
   "id": "1c7b4d71-8c54-423c-b8d6-3cf9ab093b07",
   "metadata": {},
   "outputs": [
    {
     "data": {
      "text/plain": [
       "14"
      ]
     },
     "execution_count": 6,
     "metadata": {},
     "output_type": "execute_result"
    }
   ],
   "source": [
    "#how many answers I got in total\n",
    "\n",
    "len(data_among_us)"
   ]
  },
  {
   "cell_type": "code",
   "execution_count": 7,
   "id": "fa612633-8bd7-444a-b12e-84cc4ac56ca1",
   "metadata": {},
   "outputs": [
    {
     "data": {
      "text/plain": [
       "note\n",
       "Pen and paper    5\n",
       "Computer         5\n",
       "Just listen      4\n",
       "Name: count, dtype: int64"
      ]
     },
     "execution_count": 7,
     "metadata": {},
     "output_type": "execute_result"
    }
   ],
   "source": [
    "data_among_us.note.value_counts()\n",
    "# Q. You are in a python class at CTA. Do you"
   ]
  },
  {
   "cell_type": "code",
   "execution_count": 8,
   "id": "7d808545-64ec-41af-886c-42cda9100eaa",
   "metadata": {},
   "outputs": [
    {
     "data": {
      "text/plain": [
       "pizza\n",
       "Hawaiian      5\n",
       "Pepperoni     4\n",
       "Margherita    2\n",
       "Garden        2\n",
       "Funghi        1\n",
       "Name: count, dtype: int64"
      ]
     },
     "execution_count": 8,
     "metadata": {},
     "output_type": "execute_result"
    }
   ],
   "source": [
    "data_among_us.pizza.value_counts()\n",
    "# Q. It was a long day. After you came back home, you have decided to just order a pizza for dinner. Which pizza?"
   ]
  },
  {
   "cell_type": "code",
   "execution_count": 9,
   "id": "4b96e140-0b42-4e47-84f4-07cfbba385fd",
   "metadata": {},
   "outputs": [
    {
     "data": {
      "text/plain": [
       "drink\n",
       "Coke      6\n",
       "Water     5\n",
       "Beer      1\n",
       "Wine      1\n",
       "Coffee    1\n",
       "Name: count, dtype: int64"
      ]
     },
     "execution_count": 9,
     "metadata": {},
     "output_type": "execute_result"
    }
   ],
   "source": [
    "data_among_us.drink.value_counts()\n",
    "# Q. You also want a drink. Which one?"
   ]
  },
  {
   "cell_type": "code",
   "execution_count": 9,
   "id": "76bb43f9-ddff-4497-bfda-f211af8d8c62",
   "metadata": {},
   "outputs": [
    {
     "data": {
      "text/plain": [
       "call\n",
       "Your friend     9\n",
       "Your partner    5\n",
       "Name: count, dtype: int64"
      ]
     },
     "execution_count": 9,
     "metadata": {},
     "output_type": "execute_result"
    }
   ],
   "source": [
    "data_among_us.call.value_counts()\n",
    "# Q. You are waiting for your pizza. You looked at your phone. Someone is calling you and it is exactly who you wanted to talk to. Who is it?"
   ]
  },
  {
   "cell_type": "code",
   "execution_count": 10,
   "id": "452e02b1-e5a4-4651-b6d4-a2dce17d2f90",
   "metadata": {},
   "outputs": [
    {
     "data": {
      "text/plain": [
       "shower\n",
       "Your face    5\n",
       "Your hair    5\n",
       "Your body    4\n",
       "Name: count, dtype: int64"
      ]
     },
     "execution_count": 10,
     "metadata": {},
     "output_type": "execute_result"
    }
   ],
   "source": [
    "data_among_us.shower.value_counts()\n",
    "# Q. After chatting with that person, you got your pizza and the drink, you enjoyed it to your last bite. \n",
    "#    Now, it's time to take a shower and go to bed. You are now taking a shower. Where do you wash first?"
   ]
  },
  {
   "cell_type": "code",
   "execution_count": 11,
   "id": "f2bc2064-510c-4cd4-b3f2-30997c418a61",
   "metadata": {},
   "outputs": [
    {
     "data": {
      "text/plain": [
       "position\n",
       "On your side         9\n",
       "Hugging something    3\n",
       "On your back         2\n",
       "Name: count, dtype: int64"
      ]
     },
     "execution_count": 11,
     "metadata": {},
     "output_type": "execute_result"
    }
   ],
   "source": [
    "data_among_us.position.value_counts()\n",
    "# Q. Now you are in your bed. What is your most comfortable sleeping position?"
   ]
  },
  {
   "cell_type": "code",
   "execution_count": 11,
   "id": "ed8b7e8e-ead8-4944-9554-800b894a71c5",
   "metadata": {},
   "outputs": [],
   "source": [
    "# Finding 1\n",
    "\n",
    "# Surprisingly, the most common answer for pizza & drink order was Hawaiian & Coke combination.\n",
    "# I guess this year CTA is banned for entering Italy\n",
    "\n",
    "import matplotlib.pyplot as plt\n",
    "import numpy as np"
   ]
  },
  {
   "cell_type": "code",
   "execution_count": 12,
   "id": "59aabc92-9e80-4ec2-9143-f8357a605f21",
   "metadata": {},
   "outputs": [
    {
     "data": {
      "text/plain": [
       "Text(0, 0.5, 'How many')"
      ]
     },
     "execution_count": 12,
     "metadata": {},
     "output_type": "execute_result"
    },
    {
     "data": {
      "image/png": "[encoded data removed]",
      "text/plain": [
       "<Figure size 640x480 with 1 Axes>"
      ]
     },
     "metadata": {},
     "output_type": "display_data"
    }
   ],
   "source": [
    "# Most common answer was Hawaiian Pizza\n",
    "\n",
    "plt.hist(data_among_us.pizza) \n",
    "plt.title('Which pizza do you want after a long day?')\n",
    "plt.xlabel('Pizza Order')\n",
    "plt.ylabel('How many')"
   ]
  },
  {
   "cell_type": "code",
   "execution_count": 13,
   "id": "e9b4e2f7-bd1a-47d7-9954-b26fdf9b630b",
   "metadata": {},
   "outputs": [
    {
     "data": {
      "text/html": [
       "<div>\n",
       "<style scoped>\n",
       "    .dataframe tbody tr th:only-of-type {\n",
       "        vertical-align: middle;\n",
       "    }\n",
       "\n",
       "    .dataframe tbody tr th {\n",
       "        vertical-align: top;\n",
       "    }\n",
       "\n",
       "    .dataframe thead th {\n",
       "        text-align: right;\n",
       "    }\n",
       "</style>\n",
       "<table border=\"1\" class=\"dataframe\">\n",
       "  <thead>\n",
       "    <tr style=\"text-align: right;\">\n",
       "      <th></th>\n",
       "      <th>note</th>\n",
       "      <th>pizza</th>\n",
       "      <th>drink</th>\n",
       "      <th>call</th>\n",
       "      <th>shower</th>\n",
       "      <th>position</th>\n",
       "    </tr>\n",
       "  </thead>\n",
       "  <tbody>\n",
       "    <tr>\n",
       "      <th>3</th>\n",
       "      <td>Pen and paper</td>\n",
       "      <td>Hawaiian</td>\n",
       "      <td>Coke</td>\n",
       "      <td>Your partner</td>\n",
       "      <td>Your hair</td>\n",
       "      <td>On your back</td>\n",
       "    </tr>\n",
       "    <tr>\n",
       "      <th>7</th>\n",
       "      <td>Pen and paper</td>\n",
       "      <td>Hawaiian</td>\n",
       "      <td>Coffee</td>\n",
       "      <td>Your friend</td>\n",
       "      <td>Your hair</td>\n",
       "      <td>On your side</td>\n",
       "    </tr>\n",
       "    <tr>\n",
       "      <th>8</th>\n",
       "      <td>Pen and paper</td>\n",
       "      <td>Hawaiian</td>\n",
       "      <td>Coke</td>\n",
       "      <td>Your partner</td>\n",
       "      <td>Your hair</td>\n",
       "      <td>Hugging something</td>\n",
       "    </tr>\n",
       "    <tr>\n",
       "      <th>12</th>\n",
       "      <td>Just listen</td>\n",
       "      <td>Hawaiian</td>\n",
       "      <td>Coke</td>\n",
       "      <td>Your friend</td>\n",
       "      <td>Your face</td>\n",
       "      <td>Hugging something</td>\n",
       "    </tr>\n",
       "    <tr>\n",
       "      <th>13</th>\n",
       "      <td>Just listen</td>\n",
       "      <td>Hawaiian</td>\n",
       "      <td>Coke</td>\n",
       "      <td>Your friend</td>\n",
       "      <td>Your hair</td>\n",
       "      <td>On your side</td>\n",
       "    </tr>\n",
       "  </tbody>\n",
       "</table>\n",
       "</div>"
      ],
      "text/plain": [
       "             note     pizza   drink          call     shower  \\\n",
       "3   Pen and paper  Hawaiian    Coke  Your partner  Your hair   \n",
       "7   Pen and paper  Hawaiian  Coffee   Your friend  Your hair   \n",
       "8   Pen and paper  Hawaiian    Coke  Your partner  Your hair   \n",
       "12    Just listen  Hawaiian    Coke   Your friend  Your face   \n",
       "13    Just listen  Hawaiian    Coke   Your friend  Your hair   \n",
       "\n",
       "             position  \n",
       "3        On your back  \n",
       "7        On your side  \n",
       "8   Hugging something  \n",
       "12  Hugging something  \n",
       "13       On your side  "
      ]
     },
     "execution_count": 13,
     "metadata": {},
     "output_type": "execute_result"
    }
   ],
   "source": [
    "df_pizza = data_among_us.groupby('pizza')\n",
    "df_pizza_hawaiian = df_pizza.get_group('Hawaiian')\n",
    "df_pizza_hawaiian"
   ]
  },
  {
   "cell_type": "code",
   "execution_count": 14,
   "id": "cab393ab-1589-441b-b197-76ef2e67db4a",
   "metadata": {},
   "outputs": [
    {
     "data": {
      "text/plain": [
       "([<matplotlib.patches.Wedge at 0x220ebd31be0>,\n",
       "  <matplotlib.patches.Wedge at 0x220ebce46b0>],\n",
       " [Text(-0.8899187180267095, 0.6465637441936395, ''),\n",
       "  Text(0.9708204526849543, -0.7053422209456772, '')],\n",
       " [Text(-0.48541020983275057, 0.3526711331965306, '80.0%'),\n",
       "  Text(0.56631193073289, -0.4114496288849784, '20.0%')])"
      ]
     },
     "execution_count": 14,
     "metadata": {},
     "output_type": "execute_result"
    },
    {
     "data": {
      "image/png": "[encoded data removed]",
      "text/plain": [
       "<Figure size 640x480 with 1 Axes>"
      ]
     },
     "metadata": {},
     "output_type": "display_data"
    }
   ],
   "source": [
    "plt.pie(df_pizza_hawaiian.drink.value_counts(), explode = (0, 0.1), shadow = True, autopct='%1.1f%%')\n",
    "# hatch=['**O', 'oO', 'O.O', '.||.']\n",
    "# HOW CAN I LABEL THIS ??? -> solved on the next line"
   ]
  },
  {
   "cell_type": "code",
   "execution_count": 16,
   "id": "dadcea33-3ef7-4f44-85c5-84b3a916c583",
   "metadata": {},
   "outputs": [
    {
     "data": {
      "text/plain": [
       "<Axes: ylabel='drink'>"
      ]
     },
     "execution_count": 16,
     "metadata": {},
     "output_type": "execute_result"
    },
    {
     "data": {
      "image/png": "[encoded data removed]",
      "text/plain": [
       "<Figure size 640x480 with 1 Axes>"
      ]
     },
     "metadata": {},
     "output_type": "display_data"
    }
   ],
   "source": [
    "# Most common answer for drink for ppl who chosed Hawaiian Pizza was Coke - full American\n",
    "\n",
    "df_pizza_hawaiian.groupby(\"drink\")[\"drink\"].count().plot.pie(autopct='%1.1f%%')"
   ]
  },
  {
   "cell_type": "code",
   "execution_count": 17,
   "id": "a3399f05-6685-4cb1-a0d7-643c6c958501",
   "metadata": {},
   "outputs": [],
   "source": [
    "# Finding 2\n",
    "\n",
    "# It seems that ppl who does not take notes during Python class, tends to wash their face first.\n",
    "# Maybe washing your face helps you remember?\n",
    "\n",
    "\n",
    "df_just_listen = data_among_us[[ answer for answer in data_among_us.note == 'Just listen']]"
   ]
  },
  {
   "cell_type": "code",
   "execution_count": 18,
   "id": "5158aade-4e78-4c10-9caf-32b3c6085f3c",
   "metadata": {},
   "outputs": [
    {
     "data": {
      "text/html": [
       "<div>\n",
       "<style scoped>\n",
       "    .dataframe tbody tr th:only-of-type {\n",
       "        vertical-align: middle;\n",
       "    }\n",
       "\n",
       "    .dataframe tbody tr th {\n",
       "        vertical-align: top;\n",
       "    }\n",
       "\n",
       "    .dataframe thead th {\n",
       "        text-align: right;\n",
       "    }\n",
       "</style>\n",
       "<table border=\"1\" class=\"dataframe\">\n",
       "  <thead>\n",
       "    <tr style=\"text-align: right;\">\n",
       "      <th></th>\n",
       "      <th>note</th>\n",
       "      <th>pizza</th>\n",
       "      <th>drink</th>\n",
       "      <th>call</th>\n",
       "      <th>shower</th>\n",
       "      <th>position</th>\n",
       "    </tr>\n",
       "  </thead>\n",
       "  <tbody>\n",
       "    <tr>\n",
       "      <th>1</th>\n",
       "      <td>Just listen</td>\n",
       "      <td>Funghi</td>\n",
       "      <td>Water</td>\n",
       "      <td>Your partner</td>\n",
       "      <td>Your face</td>\n",
       "      <td>On your side</td>\n",
       "    </tr>\n",
       "    <tr>\n",
       "      <th>2</th>\n",
       "      <td>Just listen</td>\n",
       "      <td>Margherita</td>\n",
       "      <td>Water</td>\n",
       "      <td>Your friend</td>\n",
       "      <td>Your face</td>\n",
       "      <td>On your back</td>\n",
       "    </tr>\n",
       "    <tr>\n",
       "      <th>12</th>\n",
       "      <td>Just listen</td>\n",
       "      <td>Hawaiian</td>\n",
       "      <td>Coke</td>\n",
       "      <td>Your friend</td>\n",
       "      <td>Your face</td>\n",
       "      <td>Hugging something</td>\n",
       "    </tr>\n",
       "    <tr>\n",
       "      <th>13</th>\n",
       "      <td>Just listen</td>\n",
       "      <td>Hawaiian</td>\n",
       "      <td>Coke</td>\n",
       "      <td>Your friend</td>\n",
       "      <td>Your hair</td>\n",
       "      <td>On your side</td>\n",
       "    </tr>\n",
       "  </tbody>\n",
       "</table>\n",
       "</div>"
      ],
      "text/plain": [
       "           note       pizza  drink          call     shower           position\n",
       "1   Just listen      Funghi  Water  Your partner  Your face       On your side\n",
       "2   Just listen  Margherita  Water   Your friend  Your face       On your back\n",
       "12  Just listen    Hawaiian   Coke   Your friend  Your face  Hugging something\n",
       "13  Just listen    Hawaiian   Coke   Your friend  Your hair       On your side"
      ]
     },
     "execution_count": 18,
     "metadata": {},
     "output_type": "execute_result"
    }
   ],
   "source": [
    "df_just_listen"
   ]
  },
  {
   "cell_type": "code",
   "execution_count": 20,
   "id": "44681bec-12d2-4699-8ea1-66b5fad54c92",
   "metadata": {},
   "outputs": [
    {
     "data": {
      "text/plain": [
       "<Axes: ylabel='shower'>"
      ]
     },
     "execution_count": 20,
     "metadata": {},
     "output_type": "execute_result"
    },
    {
     "data": {
      "image/png": "[encoded data removed]",
      "text/plain": [
       "<Figure size 640x480 with 1 Axes>"
      ]
     },
     "metadata": {},
     "output_type": "display_data"
    }
   ],
   "source": [
    "# Most common answer for shower order for ppl who just listen was to wash thier face first!\n",
    "\n",
    "df_just_listen.groupby(\"shower\")[\"shower\"].count().plot.pie(autopct='%1.1f%%')"
   ]
  },
  {
   "cell_type": "code",
   "execution_count": 21,
   "id": "aba54370-2c41-45dd-8149-1f30775114f5",
   "metadata": {},
   "outputs": [
    {
     "data": {
      "text/html": [
       "<div>\n",
       "<style scoped>\n",
       "    .dataframe tbody tr th:only-of-type {\n",
       "        vertical-align: middle;\n",
       "    }\n",
       "\n",
       "    .dataframe tbody tr th {\n",
       "        vertical-align: top;\n",
       "    }\n",
       "\n",
       "    .dataframe thead th {\n",
       "        text-align: right;\n",
       "    }\n",
       "</style>\n",
       "<table border=\"1\" class=\"dataframe\">\n",
       "  <thead>\n",
       "    <tr style=\"text-align: right;\">\n",
       "      <th></th>\n",
       "      <th>note</th>\n",
       "      <th>pizza</th>\n",
       "      <th>drink</th>\n",
       "      <th>call</th>\n",
       "      <th>shower</th>\n",
       "      <th>position</th>\n",
       "    </tr>\n",
       "  </thead>\n",
       "  <tbody>\n",
       "    <tr>\n",
       "      <th>1</th>\n",
       "      <td>Just listen</td>\n",
       "      <td>Funghi</td>\n",
       "      <td>Water</td>\n",
       "      <td>Your partner</td>\n",
       "      <td>Your face</td>\n",
       "      <td>On your side</td>\n",
       "    </tr>\n",
       "    <tr>\n",
       "      <th>3</th>\n",
       "      <td>Pen and paper</td>\n",
       "      <td>Hawaiian</td>\n",
       "      <td>Coke</td>\n",
       "      <td>Your partner</td>\n",
       "      <td>Your hair</td>\n",
       "      <td>On your back</td>\n",
       "    </tr>\n",
       "    <tr>\n",
       "      <th>4</th>\n",
       "      <td>Computer</td>\n",
       "      <td>Garden</td>\n",
       "      <td>Water</td>\n",
       "      <td>Your partner</td>\n",
       "      <td>Your face</td>\n",
       "      <td>On your side</td>\n",
       "    </tr>\n",
       "    <tr>\n",
       "      <th>8</th>\n",
       "      <td>Pen and paper</td>\n",
       "      <td>Hawaiian</td>\n",
       "      <td>Coke</td>\n",
       "      <td>Your partner</td>\n",
       "      <td>Your hair</td>\n",
       "      <td>Hugging something</td>\n",
       "    </tr>\n",
       "    <tr>\n",
       "      <th>9</th>\n",
       "      <td>Computer</td>\n",
       "      <td>Garden</td>\n",
       "      <td>Water</td>\n",
       "      <td>Your partner</td>\n",
       "      <td>Your body</td>\n",
       "      <td>On your side</td>\n",
       "    </tr>\n",
       "  </tbody>\n",
       "</table>\n",
       "</div>"
      ],
      "text/plain": [
       "            note     pizza  drink          call     shower           position\n",
       "1    Just listen    Funghi  Water  Your partner  Your face       On your side\n",
       "3  Pen and paper  Hawaiian   Coke  Your partner  Your hair       On your back\n",
       "4       Computer    Garden  Water  Your partner  Your face       On your side\n",
       "8  Pen and paper  Hawaiian   Coke  Your partner  Your hair  Hugging something\n",
       "9       Computer    Garden  Water  Your partner  Your body       On your side"
      ]
     },
     "execution_count": 21,
     "metadata": {},
     "output_type": "execute_result"
    }
   ],
   "source": [
    "# Finding 3\n",
    "\n",
    "# ppl who prefer thier partner over friends for conversation, do not like pepperoni pizza nor Alchol.\n",
    "# Maybe they don't need extra spice in thier life as thier relationship is already spicy.\n",
    "\n",
    "\n",
    "df_partner = data_among_us[[answer for answer in data_among_us.call == 'Your partner']]\n",
    "df_partner"
   ]
  },
  {
   "cell_type": "code",
   "execution_count": 24,
   "id": "16b2520e-fba6-4374-8597-27434dfac3cb",
   "metadata": {},
   "outputs": [
    {
     "data": {
      "text/plain": [
       "(array([3., 0., 2.]),\n",
       " array([3.        , 3.33333333, 3.66666667, 4.        ]),\n",
       " <BarContainer object of 3 artists>)"
      ]
     },
     "execution_count": 24,
     "metadata": {},
     "output_type": "execute_result"
    },
    {
     "data": {
      "image/png": "[encoded data removed]",
      "text/plain": [
       "<Figure size 640x480 with 1 Axes>"
      ]
     },
     "metadata": {},
     "output_type": "display_data"
    }
   ],
   "source": [
    "# what ppl who prefers thier partner chosed..\n",
    "\n",
    "plt.hist(df_partner.pizza, bins = 5)\n",
    "plt.hist(df_partner.drink, bins = 3)"
   ]
  },
  {
   "cell_type": "code",
   "execution_count": 35,
   "id": "2a689c15-68da-4621-95de-2d244e59fca5",
   "metadata": {},
   "outputs": [
    {
     "data": {
      "image/png": "[encoded data removed]",
      "text/plain": [
       "<Figure size 640x480 with 1 Axes>"
      ]
     },
     "metadata": {},
     "output_type": "display_data"
    }
   ],
   "source": [
    "# ppl's pizza order depending on their preference over their friends and partners\n",
    "\n",
    "df_call = data_among_us.groupby('call')\n",
    "\n",
    "df_call_friend = df_call.get_group('Your friend')\n",
    "df_call_partner = df_call.get_group('Your partner')\n",
    "\n",
    "plt.hist(df_call_friend['pizza'], bins=5, label='your friend', alpha=0.5)\n",
    "plt.hist(df_call_partner['pizza'], bins=5, label='your partner', alpha=0.5)\n",
    "plt.xlabel('pizza')\n",
    "plt.ylabel('How many ppl')\n",
    "plt.title('Distributiory')\n",
    "plt.legend()\n",
    "plt.show()"
   ]
  }
 ],
 "metadata": {
  "kernelspec": {
   "display_name": "Python 3 (ipykernel)",
   "language": "python",
   "name": "python3"
  },
  "language_info": {
   "codemirror_mode": {
    "name": "ipython",
    "version": 3
   },
   "file_extension": ".py",
   "mimetype": "text/x-python",
   "name": "python",
   "nbconvert_exporter": "python",
   "pygments_lexer": "ipython3",
   "version": "3.12.0"
  }
 },
 "nbformat": 4,
 "nbformat_minor": 5
}
